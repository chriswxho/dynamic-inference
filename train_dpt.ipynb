{
 "cells": [
  {
   "cell_type": "code",
   "execution_count": null,
   "id": "949b8067-f11e-418d-ac9a-44ff61abbc25",
   "metadata": {},
   "outputs": [],
   "source": [
    "import os\n",
    "import glob\n",
    "import cv2\n",
    "import numpy as np\n",
    "\n",
    "import util.io\n",
    "\n",
    "import torch\n",
    "import torch.nn as nn\n",
    "import torch.optim as optim\n",
    "from torchvision.transforms import Compose\n",
    "\n",
    "from dpt.models import DPTDepthModel\n",
    "from dpt.midas_net import MidasNet_large\n",
    "from dpt.transforms import Resize, NormalizeImage, PrepareForNet"
   ]
  },
  {
   "cell_type": "code",
   "execution_count": 2,
   "id": "7e8a001f-1dee-40c1-bc84-2641024c23d5",
   "metadata": {},
   "outputs": [],
   "source": [
    "input_path = 'input'\n",
    "output_path = 'output_monodepth'\n",
    "model_path = 'weights/dpt_hybrid_nyu-2ce69ec7.pt'\n",
    "model_type = 'dpt_hybrid'\n",
    "optimize = True\n",
    "\n",
    "runs = 500\n",
    "timings = np.zeros((runs,2))"
   ]
  },
  {
   "cell_type": "code",
   "execution_count": 3,
   "id": "8e2984b2-f5ca-4b43-b003-848f944a21a3",
   "metadata": {},
   "outputs": [
    {
     "name": "stdout",
     "output_type": "stream",
     "text": [
      "device: cpu\n"
     ]
    }
   ],
   "source": [
    "# select device\n",
    "device = torch.device(\"cuda\" if torch.cuda.is_available() else \"cpu\")\n",
    "print(\"device: %s\" % device)\n",
    "\n",
    "# load network\n",
    "if model_type == \"dpt_large\":  # DPT-Large\n",
    "    net_w = net_h = 384\n",
    "    model = DPTDepthModel(\n",
    "        path=model_path,\n",
    "        backbone=\"vitl16_384\",\n",
    "        non_negative=True,\n",
    "        enable_attention_hooks=False,\n",
    "    )\n",
    "    normalization = NormalizeImage(mean=[0.5, 0.5, 0.5], std=[0.5, 0.5, 0.5])\n",
    "elif model_type == \"dpt_hybrid\":  # DPT-Hybrid\n",
    "    net_w = net_h = 384\n",
    "    model = DPTDepthModel(\n",
    "        path=model_path,\n",
    "        backbone=\"vitb_rn50_384\",\n",
    "        non_negative=True,\n",
    "        enable_attention_hooks=False,\n",
    "    )\n",
    "    normalization = NormalizeImage(mean=[0.5, 0.5, 0.5], std=[0.5, 0.5, 0.5])\n",
    "elif model_type == \"dpt_hybrid_kitti\":\n",
    "    net_w = 1216\n",
    "    net_h = 352\n",
    "\n",
    "    model = DPTDepthModel(\n",
    "        path=model_path,\n",
    "        scale=0.00006016,\n",
    "        shift=0.00579,\n",
    "        invert=True,\n",
    "        backbone=\"vitb_rn50_384\",\n",
    "        non_negative=True,\n",
    "        enable_attention_hooks=False,\n",
    "    )\n",
    "\n",
    "    normalization = NormalizeImage(mean=[0.5, 0.5, 0.5], std=[0.5, 0.5, 0.5])\n",
    "elif model_type == \"dpt_hybrid_nyu\":\n",
    "    net_w = 640\n",
    "    net_h = 480\n",
    "\n",
    "    model = DPTDepthModel(\n",
    "        path=model_path,\n",
    "        scale=0.000305,\n",
    "        shift=0.1378,\n",
    "        invert=True,\n",
    "        backbone=\"vitb_rn50_384\",\n",
    "        non_negative=True,\n",
    "        enable_attention_hooks=False,\n",
    "    )\n",
    "\n",
    "    normalization = NormalizeImage(mean=[0.5, 0.5, 0.5], std=[0.5, 0.5, 0.5])\n",
    "elif model_type == \"midas_v21\":  # Convolutional model\n",
    "    net_w = net_h = 384\n",
    "\n",
    "    model = MidasNet_large(model_path, non_negative=True)\n",
    "    normalization = NormalizeImage(\n",
    "        mean=[0.485, 0.456, 0.406], std=[0.229, 0.224, 0.225]\n",
    "    )\n",
    "else:\n",
    "    assert (\n",
    "        False\n",
    "    ), f\"model_type '{model_type}' not implemented, use: --model_type [dpt_large|dpt_hybrid|dpt_hybrid_kitti|dpt_hybrid_nyu|midas_v21]\"\n",
    "    \n",
    "transform = Compose(\n",
    "    [\n",
    "        Resize(\n",
    "            net_w,\n",
    "            net_h,\n",
    "            resize_target=None,\n",
    "            keep_aspect_ratio=True,\n",
    "            ensure_multiple_of=32,\n",
    "            resize_method=\"minimal\",\n",
    "            image_interpolation_method=cv2.INTER_CUBIC,\n",
    "        ),\n",
    "        normalization,\n",
    "        PrepareForNet(),\n",
    "    ]\n",
    ")\n",
    "\n"
   ]
  },
  {
   "cell_type": "code",
   "execution_count": null,
   "id": "67df8b8d-8967-45dc-9fa2-3213af5ab538",
   "metadata": {},
   "outputs": [],
   "source": [
    "if optimize == True and device == torch.device(\"cuda\"):\n",
    "    model = model.to(memory_format=torch.channels_last)\n",
    "    model = model.half()\n",
    "\n",
    "model.to(device)"
   ]
  },
  {
   "cell_type": "code",
   "execution_count": null,
   "id": "1f2c9000-118f-4d9f-ba09-3e45b2c5f77c",
   "metadata": {},
   "outputs": [],
   "source": [
    "n_epochs = 50\n",
    "loss = np.zeros(n_epochs)\n",
    "lr = 1e-5\n",
    "\n",
    "criterion = ...\n",
    "optimizer = optim.Adam(lr)"
   ]
  },
  {
   "cell_type": "code",
   "execution_count": 3,
   "id": "f2ffadfd-0262-4014-acb9-5ba4f2d90fd9",
   "metadata": {},
   "outputs": [
    {
     "data": {
      "text/plain": [
       "Ellipsis"
      ]
     },
     "execution_count": 3,
     "metadata": {},
     "output_type": "execute_result"
    }
   ],
   "source": []
  },
  {
   "cell_type": "code",
   "execution_count": null,
   "id": "0b43e18e-1a52-42f9-8043-e40691fb8ddf",
   "metadata": {},
   "outputs": [],
   "source": [
    "for epoch in n_epochs:"
   ]
  }
 ],
 "metadata": {
  "kernelspec": {
   "display_name": "Python 3",
   "language": "python",
   "name": "python3"
  },
  "language_info": {
   "codemirror_mode": {
    "name": "ipython",
    "version": 3
   },
   "file_extension": ".py",
   "mimetype": "text/x-python",
   "name": "python",
   "nbconvert_exporter": "python",
   "pygments_lexer": "ipython3",
   "version": "3.7.10"
  }
 },
 "nbformat": 4,
 "nbformat_minor": 5
}
