{
 "cells": [
  {
   "cell_type": "code",
   "execution_count": 1,
   "id": "6ac4743d-b550-4002-82cf-0f08253be146",
   "metadata": {},
   "outputs": [],
   "source": [
    "import os\n",
    "import glob\n",
    "import cv2\n",
    "import numpy as np\n",
    "import pandas as pd\n",
    "import matplotlib.pyplot as plt\n",
    "\n",
    "import util.io\n",
    "\n",
    "import torch\n",
    "import torch.optim as optim\n",
    "from torchvision.transforms import Compose\n",
    "\n",
    "import pytorch_lightning as pl\n",
    "from pytorch_lightning.loggers import CSVLogger\n",
    "\n",
    "from dpt.models import DPTDepthModel\n",
    "from dpt.midas_net import MidasNet_large\n",
    "from dpt.transforms import Resize, NormalizeImage, PrepareForNet\n",
    "from data.InteriorNetDataset import InteriorNetDataset\n",
    "from data.metrics import SILog, get_metrics\n",
    "from util.gpu_config import get_batch_size"
   ]
  },
  {
   "cell_type": "code",
   "execution_count": 2,
   "id": "36829f70-f0c7-4e24-87e3-0daa6837bdf5",
   "metadata": {},
   "outputs": [
    {
     "name": "stdout",
     "output_type": "stream",
     "text": [
      "device name: Tesla V100-SXM2-32GB\n"
     ]
    }
   ],
   "source": [
    "device = torch.device(\"cuda\" if torch.cuda.is_available() else \"cpu\")\n",
    "print(f'device name: {torch.cuda.get_device_name(0) if device != \"cpu\" else \"cpu\"}')"
   ]
  },
  {
   "cell_type": "code",
   "execution_count": 3,
   "id": "8ac9a7be-eb98-4ca6-8a02-2f252e3a5d55",
   "metadata": {},
   "outputs": [],
   "source": [
    "s, t = 0.4364, 0.4115\n",
    "\n",
    "net_w = 640\n",
    "net_h = 480\n",
    "\n",
    "# k8s paths\n",
    "k8s = True\n",
    "k8s_repo = r'opt/repo/dynamic-inference'\n",
    "k8s_pvc = r'christh9-pvc'\n",
    "\n",
    "# path settings\n",
    "input_path = 'input'\n",
    "output_path = 'output_monodepth'\n",
    "model_path = 'weights/dpt_hybrid_nyu-2ce69ec7.pt'\n",
    "dataset_path = 'video_inference_common/resources'\n",
    "\n",
    "if k8s:\n",
    "    input_path = os.path.join(k8s_repo, input_path)\n",
    "    output_path = os.path.join(k8s_repo, output_path)\n",
    "    model_path = os.path.join(k8s_pvc, 'train-logs', 'finetune1.pt')\n",
    "    dataset_path = os.path.join(k8s_repo, dataset_path)\n",
    "\n",
    "os.chdir('/')"
   ]
  },
  {
   "cell_type": "code",
   "execution_count": 4,
   "id": "63198658-7495-4f82-adb3-c4497142e0f7",
   "metadata": {},
   "outputs": [],
   "source": [
    "normalization = NormalizeImage(mean=[0.5, 0.5, 0.5], std=[0.5, 0.5, 0.5])\n",
    "    \n",
    "transform = Compose(\n",
    "    [\n",
    "        Resize(\n",
    "            net_w,\n",
    "            net_h,\n",
    "            resize_target=None,\n",
    "            keep_aspect_ratio=True,\n",
    "            ensure_multiple_of=32,\n",
    "            resize_method=\"minimal\",\n",
    "            image_interpolation_method=cv2.INTER_CUBIC,\n",
    "        ),\n",
    "        normalization,\n",
    "        PrepareForNet(),\n",
    "    ]\n",
    ")"
   ]
  },
  {
   "cell_type": "code",
   "execution_count": 5,
   "id": "8ec37f8d-f9bc-4cce-9fbf-406f7bbf58c3",
   "metadata": {},
   "outputs": [],
   "source": [
    "class InteriorNetDPT(pl.LightningModule):\n",
    "    def __init__(self):\n",
    "        super().__init__()\n",
    "        self.model = DPTDepthModel(\n",
    "                        path=model_path,\n",
    "                        scale=s,\n",
    "                        shift=t,\n",
    "                        #     scale=0.000305,\n",
    "                        #     shift=0.1378,\n",
    "                        invert=True,\n",
    "                        backbone=\"vitb_rn50_384\",\n",
    "                        non_negative=True,\n",
    "                        enable_attention_hooks=False,\n",
    "                     )\n",
    "    \n",
    "    def forward(self, x):\n",
    "        return self.model(x)\n",
    "    \n",
    "    def training_step(self, batch, batch_idx):\n",
    "        x, y = batch['image'], batch['depth']\n",
    "        yhat = self.model(x)\n",
    "        loss = SILog(yhat, 1/y)\n",
    "        self.log('train_loss', loss, on_epoch=True)\n",
    "        \n",
    "        metrics = get_metrics(yhat.detach(), 1/y.detach())\n",
    "        self.log('absrel', metrics[0], on_epoch=True)\n",
    "        self.log('delta_acc', metrics[1], on_epoch=True)\n",
    "        self.log('mae', metrics[2], on_epoch=True)\n",
    "        return loss\n",
    "    \n",
    "    def configure_optimizers(self):\n",
    "        return optim.Adam(filter(lambda p: p.requires_grad, self.parameters()), \n",
    "                          lr=1e-5)"
   ]
  },
  {
   "cell_type": "code",
   "execution_count": 6,
   "id": "add27b4e-4772-4ffb-b0d2-023fe067eb37",
   "metadata": {},
   "outputs": [],
   "source": [
    "interiornet_dataset = InteriorNetDataset(dataset_path, transform=transform, subsample=True)\n",
    "model = InteriorNetDPT()\n",
    "model.to(device)"
   ]
  },
  {
   "cell_type": "code",
   "execution_count": 19,
   "id": "e6f1b481-7e8b-4725-b37f-c5bc257fa8cd",
   "metadata": {},
   "outputs": [
    {
     "data": {
      "image/png": "[encoded data removed]",
      "text/plain": [
       "<Figure size 432x288 with 2 Axes>"
      ]
     },
     "metadata": {
      "needs_background": "light"
     },
     "output_type": "display_data"
    }
   ],
   "source": [
    "with torch.no_grad():\n",
    "    for i in np.random.randint(0,1000,10):\n",
    "        sample = interiornet_dataset[i]\n",
    "        image, depth = torch.tensor(sample['image']).to(device), 1/sample['depth']\n",
    "        out = model(image.unsqueeze(0)).squeeze(0).to('cpu')\n",
    "              \n",
    "        fig,axs = plt.subplots(1,2)\n",
    "        axs[0].imshow((out - out.min()) / (out.max()-out.min()))\n",
    "        axs[1].imshow(depth)\n",
    "        plt.show()\n",
    "        \n",
    "        break"
   ]
  },
  {
   "cell_type": "code",
   "execution_count": null,
   "id": "3c588a3c-a014-4a87-af7f-c8e330fcfe24",
   "metadata": {},
   "outputs": [],
   "source": []
  }
 ],
 "metadata": {
  "kernelspec": {
   "display_name": "Python 3 (ipykernel)",
   "language": "python",
   "name": "python3"
  },
  "language_info": {
   "codemirror_mode": {
    "name": "ipython",
    "version": 3
   },
   "file_extension": ".py",
   "mimetype": "text/x-python",
   "name": "python",
   "nbconvert_exporter": "python",
   "pygments_lexer": "ipython3",
   "version": "3.8.10"
  }
 },
 "nbformat": 4,
 "nbformat_minor": 5
}
